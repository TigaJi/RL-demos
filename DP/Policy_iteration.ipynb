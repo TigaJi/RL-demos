{
 "cells": [
  {
   "cell_type": "markdown",
   "id": "0cf6bc98",
   "metadata": {},
   "source": [
    "# Policy Iteration on Grid World"
   ]
  },
  {
   "cell_type": "code",
   "execution_count": 108,
   "id": "0aaeaf0b",
   "metadata": {},
   "outputs": [],
   "source": [
    "import gym\n",
    "import numpy as np\n",
    "from gym import spaces"
   ]
  },
  {
   "cell_type": "markdown",
   "id": "c656e20b",
   "metadata": {},
   "source": [
    "## A Gridworld Example\n",
    "### if on top-left or botton-right corner than reward is 0, else -1\n"
   ]
  },
  {
   "cell_type": "code",
   "execution_count": 109,
   "id": "cee50c09",
   "metadata": {},
   "outputs": [],
   "source": [
    "# custom 2d grid world enviroment which extends gym.Env\n",
    "class GridWorld(gym.Env):\n",
    "    \"\"\"\n",
    "        A grid world env follows the book Example 4.1\n",
    "    \"\"\"\n",
    "    metadata = {'render.modes': ['console']}\n",
    "    \n",
    "    # actions available \n",
    "    UP   = 0\n",
    "    LEFT = 1\n",
    "    DOWN = 2\n",
    "    RIGHT= 3\n",
    "    \n",
    "    def __init__(self, size):\n",
    "        super(GridWorld, self).__init__()\n",
    "        \n",
    "        self.size = size # size of the grid world\n",
    "        self.end_state = [[0,0],[size-1,size-1]] # top left and bottom right\n",
    "        \n",
    "        # randomly assign the inital location of agent\n",
    "        self.agent_position = [np.random.randint(0,self.size),np.random.randint(0,self.size)]\n",
    "        \n",
    "        # respective actions of agents : up, down, left and right\n",
    "        self.action_space = spaces.Discrete(4)\n",
    "        \n",
    "        # set the observation space to (1,) to represent agent position in the grid world \n",
    "        # staring from [0,size*size)\n",
    "        self.observation_space = spaces.Box(low=0, high=4, shape=(2,), dtype=np.uint8)\n",
    "        \n",
    "        self.states = [[i,j] for i in range(size) for j in range(size)]\n",
    "    \n",
    "    def bound_position(self):\n",
    "        self.agent_position[0] = 0 if self.agent_position[0]<0 else self.agent_position[0]\n",
    "        self.agent_position[0] = self.size-1 if self.agent_position[0]>self.size-1 else self.agent_position[0]\n",
    "        self.agent_position[1] = 0 if self.agent_position[1]<0 else self.agent_position[1]\n",
    "        self.agent_position[1] = self.size-1 if self.agent_position[1]>self.size-1 else self.agent_position[1]\n",
    "        \n",
    "    def step(self,action):\n",
    "        info = {} # additional information\n",
    "        \n",
    "        if self.agent_position in self.end_state:\n",
    "            return self.agent_position, 0, True, info\n",
    "        \n",
    "        \n",
    "        if action == self.UP:\n",
    "            self.agent_position[0] -=1\n",
    "\n",
    "        elif action == self.LEFT:\n",
    "            self.agent_position[1] -=1\n",
    "\n",
    "        elif action == self.DOWN:\n",
    "            self.agent_position[0] +=1\n",
    "\n",
    "        elif action == self.RIGHT:\n",
    "            self.agent_position[1] +=1\n",
    "\n",
    "        else:\n",
    "            raise ValueError(\"Received invalid action={} which is not part of the action space\".format(action))\n",
    "        \n",
    "        self.bound_position()\n",
    "        done = bool(self.agent_position in self.end_state)\n",
    "        \n",
    "        # reward agent when it is in the terminal cell, else reward = 0\n",
    "        reward = 0 if done else -1\n",
    "        \n",
    "        return self.agent_position, reward, done, info\n",
    "    \n",
    "    def render(self, mode='console'):\n",
    "        '''\n",
    "            render the state\n",
    "        '''\n",
    "        if mode != 'console':\n",
    "          raise NotImplementedError()\n",
    "        \n",
    "        row  = self.agent_position[0]\n",
    "        col  = self.agent_position[1]\n",
    "        \n",
    "        for r in range(self.size):\n",
    "            for c in range(self.size):\n",
    "                if r == row and c == col:\n",
    "                    print(\"X\",end='')\n",
    "                else:\n",
    "                    print('.',end='')\n",
    "            print('')\n",
    "\n",
    "    def reset(self,position):\n",
    "        \n",
    "        self.agent_position = position\n",
    "    \n",
    "    def close(self):\n",
    "        pass"
   ]
  },
  {
   "cell_type": "markdown",
   "id": "02626dc9",
   "metadata": {},
   "source": [
    "## Policy Evaluation Function"
   ]
  },
  {
   "cell_type": "code",
   "execution_count": 118,
   "id": "ae4c55f0",
   "metadata": {},
   "outputs": [],
   "source": [
    "def policy_evaluation(theta,V,Pi,env,max_iter = 1):\n",
    "    \n",
    "    delta = 0\n",
    "    for i in range(max_iter):\n",
    "        V_new = {}\n",
    "        \n",
    "        #for all non-terminal states\n",
    "        for state in env.states:\n",
    "            if state in env.end_state:\n",
    "                V_new[tuple(state)] = 0\n",
    "                continue\n",
    "                \n",
    "            #old state value\n",
    "            v = V[tuple(state)]\n",
    "            \n",
    "            #action under current policy\n",
    "            action = Pi[tuple(state)]\n",
    "            \n",
    "            #take the action and get reward\n",
    "            env.reset(state.copy())\n",
    "            next_state, reward, done, info = env.step(action)\n",
    "            \n",
    "            #calculate new state value\n",
    "            new_v = reward + V[tuple(next_state)]\n",
    "            \n",
    "            V_new[tuple(state)] = new_v\n",
    "            \n",
    "            #update delta\n",
    "            delta = max(abs(new_v-v), delta)\n",
    "            \n",
    "        V = V_new\n",
    "        \n",
    "        if delta < theta:\n",
    "            break\n",
    "            \n",
    "    return V"
   ]
  },
  {
   "cell_type": "markdown",
   "id": "1f21be79",
   "metadata": {},
   "source": [
    "## Policy Improvement Function"
   ]
  },
  {
   "cell_type": "code",
   "execution_count": 119,
   "id": "ed592fee",
   "metadata": {},
   "outputs": [],
   "source": [
    "def policy_improvement(V,Pi,env):\n",
    "    policy_stable = True\n",
    "    Pi_new = {}\n",
    "    \n",
    "    #for all non-terminal states\n",
    "    for state in env.states:\n",
    "        if state in env.end_state:\n",
    "            continue\n",
    "        #old action\n",
    "        action = Pi[tuple(state)]\n",
    "        \n",
    "        #find new optimal action under current state-value function\n",
    "        action_values = []\n",
    "        \n",
    "        #take all actions and find the largest value\n",
    "        for a in range(env.action_space.n):\n",
    "            env.reset(state.copy())\n",
    "            next_state, reward, done, info = env.step(a)\n",
    "            next_state_value = V[tuple(next_state)]\n",
    "            action_values.append(reward+next_state_value)\n",
    "        best_action = np.argmax(action_values)\n",
    "        \n",
    "        #update policy\n",
    "        Pi_new[tuple(state)] = best_action\n",
    "        \n",
    "        if action != best_action:\n",
    "            policy_stable = False\n",
    "\n",
    "    return policy_stable, Pi_new"
   ]
  },
  {
   "cell_type": "code",
   "execution_count": 120,
   "id": "ad17fee9",
   "metadata": {},
   "outputs": [],
   "source": [
    "#rendering function\n",
    "def plot(V,Pi,size):\n",
    "    for r in range(size):\n",
    "        for c in range(size):\n",
    "            print(V[(r,c)],end = '\\t|')\n",
    "        print('')\n",
    "        \n",
    "    \n",
    "    print('===========================')\n",
    "    action_map = {0:'up',1:'left',2:'down',3:'right'}\n",
    "    for r in range(size):\n",
    "        for c in range(size):\n",
    "            try:\n",
    "                print(action_map[Pi[(r,c)]],end = '\\t|')\n",
    "            except:\n",
    "                print('X',end = '\\t|')\n",
    "        print('')"
   ]
  },
  {
   "cell_type": "code",
   "execution_count": 127,
   "id": "eaa7b092",
   "metadata": {},
   "outputs": [
    {
     "name": "stdout",
     "output_type": "stream",
     "text": [
      "0\t|0\t|0\t|0\t|\n",
      "0\t|0\t|0\t|0\t|\n",
      "0\t|0\t|0\t|0\t|\n",
      "0\t|0\t|0\t|0\t|\n",
      "===========================\n",
      "X\t|up\t|up\t|up\t|\n",
      "up\t|up\t|up\t|up\t|\n",
      "up\t|up\t|up\t|up\t|\n",
      "up\t|up\t|up\t|X\t|\n"
     ]
    }
   ],
   "source": [
    "size = 4\n",
    "V = dict.fromkeys([(i,j) for i in range(size) for j in range(size)], 0) # values as 0\n",
    "Pi = dict.fromkeys([(i,j) for i in range(size) for j in range(size) if i+j != 0 and i+j != 6], 0) # inital actions as UP\n",
    "env = GridWorld(size)\n",
    "theta = 0.1\n",
    "\n",
    "plot(V,Pi,size)"
   ]
  },
  {
   "cell_type": "markdown",
   "id": "92c32b55",
   "metadata": {},
   "source": [
    "### Round#1"
   ]
  },
  {
   "cell_type": "code",
   "execution_count": 128,
   "id": "582a6733",
   "metadata": {},
   "outputs": [
    {
     "name": "stdout",
     "output_type": "stream",
     "text": [
      "Policy is stable:  False\n",
      "0\t|-1\t|-1\t|-1\t|\n",
      "0\t|-1\t|-1\t|-1\t|\n",
      "-1\t|-1\t|-1\t|-1\t|\n",
      "-1\t|-1\t|-1\t|0\t|\n",
      "===========================\n",
      "X\t|left\t|up\t|up\t|\n",
      "up\t|left\t|up\t|up\t|\n",
      "up\t|up\t|up\t|down\t|\n",
      "up\t|up\t|right\t|X\t|\n"
     ]
    }
   ],
   "source": [
    "V = policy_evaluation(theta,V,Pi,env)\n",
    "policy_stable, Pi = policy_improvement(V,Pi,env)\n",
    "print(\"Policy is stable: \", policy_stable)\n",
    "plot(V,Pi,size)\n"
   ]
  },
  {
   "cell_type": "markdown",
   "id": "a000eae4",
   "metadata": {},
   "source": [
    "### Round#2"
   ]
  },
  {
   "cell_type": "code",
   "execution_count": 129,
   "id": "4adb7f08",
   "metadata": {},
   "outputs": [
    {
     "name": "stdout",
     "output_type": "stream",
     "text": [
      "Policy is stable:  False\n",
      "0\t|0\t|-2\t|-2\t|\n",
      "0\t|-1\t|-2\t|-2\t|\n",
      "-1\t|-2\t|-2\t|0\t|\n",
      "-2\t|-2\t|0\t|0\t|\n",
      "===========================\n",
      "X\t|left\t|left\t|up\t|\n",
      "up\t|up\t|left\t|down\t|\n",
      "up\t|up\t|down\t|down\t|\n",
      "up\t|right\t|right\t|X\t|\n"
     ]
    }
   ],
   "source": [
    "V = policy_evaluation(theta,V,Pi,env)\n",
    "policy_stable, Pi = policy_improvement(V,Pi,env)\n",
    "print(\"Policy is stable: \", policy_stable)\n",
    "plot(V,Pi,size)\n"
   ]
  },
  {
   "cell_type": "code",
   "execution_count": 130,
   "id": "342247c0",
   "metadata": {},
   "outputs": [
    {
     "name": "stdout",
     "output_type": "stream",
     "text": [
      "Policy is stable:  False\n",
      "0\t|0\t|-1\t|-3\t|\n",
      "0\t|-1\t|-2\t|-1\t|\n",
      "-1\t|-2\t|-1\t|0\t|\n",
      "-2\t|-1\t|0\t|0\t|\n",
      "===========================\n",
      "X\t|left\t|left\t|left\t|\n",
      "up\t|up\t|up\t|down\t|\n",
      "up\t|up\t|down\t|down\t|\n",
      "up\t|right\t|right\t|X\t|\n"
     ]
    }
   ],
   "source": [
    "V = policy_evaluation(theta,V,Pi,env)\n",
    "policy_stable, Pi = policy_improvement(V,Pi,env)\n",
    "print(\"Policy is stable: \", policy_stable)\n",
    "plot(V,Pi,size)\n"
   ]
  },
  {
   "cell_type": "code",
   "execution_count": 131,
   "id": "5e10d11a",
   "metadata": {},
   "outputs": [
    {
     "name": "stdout",
     "output_type": "stream",
     "text": [
      "Policy is stable:  True\n",
      "0\t|0\t|-1\t|-2\t|\n",
      "0\t|-1\t|-2\t|-1\t|\n",
      "-1\t|-2\t|-1\t|0\t|\n",
      "-2\t|-1\t|0\t|0\t|\n",
      "===========================\n",
      "X\t|left\t|left\t|left\t|\n",
      "up\t|up\t|up\t|down\t|\n",
      "up\t|up\t|down\t|down\t|\n",
      "up\t|right\t|right\t|X\t|\n"
     ]
    }
   ],
   "source": [
    "V = policy_evaluation(theta,V,Pi,env)\n",
    "policy_stable, Pi = policy_improvement(V,Pi,env)\n",
    "print(\"Policy is stable: \", policy_stable)\n",
    "plot(V,Pi,size)"
   ]
  },
  {
   "cell_type": "code",
   "execution_count": null,
   "id": "70e4c8f0",
   "metadata": {},
   "outputs": [],
   "source": []
  }
 ],
 "metadata": {
  "kernelspec": {
   "display_name": "Python 3 (ipykernel)",
   "language": "python",
   "name": "python3"
  },
  "language_info": {
   "codemirror_mode": {
    "name": "ipython",
    "version": 3
   },
   "file_extension": ".py",
   "mimetype": "text/x-python",
   "name": "python",
   "nbconvert_exporter": "python",
   "pygments_lexer": "ipython3",
   "version": "3.9.13"
  }
 },
 "nbformat": 4,
 "nbformat_minor": 5
}
