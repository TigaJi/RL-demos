{
 "cells": [
  {
   "cell_type": "markdown",
   "id": "3501dbfa",
   "metadata": {},
   "source": [
    "# Policy Iteration on Grid World\n",
    "\n"
   ]
  },
  {
   "cell_type": "code",
   "execution_count": 2,
   "id": "eef6c3a6",
   "metadata": {},
   "outputs": [],
   "source": [
    "import sys\n",
    "import os\n",
    "sys.path.append(os.path.dirname(os.getcwd()))\n",
    "import numpy as np\n",
    "from gridworld import GridWorld, plot_value,plot_policy"
   ]
  },
  {
   "cell_type": "markdown",
   "id": "d5b0cc65",
   "metadata": {},
   "source": [
    "## Policy Evaluation Function"
   ]
  },
  {
   "cell_type": "code",
   "execution_count": 3,
   "id": "979a0b3f",
   "metadata": {},
   "outputs": [],
   "source": [
    "def get_expected_value(state,Pi,V):\n",
    "    '''\n",
    "    Update the state-value for a single state under policy pi\n",
    "    '''\n",
    "    #pi(s)\n",
    "    action_prob = Pi[tuple(state)]\n",
    "    \n",
    "    \n",
    "    expected_value = 0\n",
    "    #for each action and its probability\n",
    "    #calculate the reward and value of next state\n",
    "    #sum up to get expectation\n",
    "    for action in range(len(action_prob)):\n",
    "        prob = action_prob[action]\n",
    "        env.reset(state.copy())\n",
    "        next_state, reward, done, info = env.step(action)\n",
    "        expected_value += prob*(reward + V[tuple(next_state)])\n",
    "    \n",
    "    return round(expected_value,1)"
   ]
  },
  {
   "cell_type": "code",
   "execution_count": 4,
   "id": "1050622c",
   "metadata": {},
   "outputs": [],
   "source": [
    "def policy_evaluation_single_round(V,Pi,env):\n",
    "    \"\"\"\n",
    "    Update the value of all states under a current policy Pi\n",
    "    NOT INPLACE\n",
    "    SINGLE ROUND\n",
    "    \"\"\"\n",
    "    V_new = {}\n",
    "    for state in env.states:\n",
    "        if state in env.end_state:\n",
    "            V_new[tuple(state)] = 0\n",
    "            continue      \n",
    "        V_new[tuple(state)] = get_expected_value(state,Pi,V)\n",
    "        \n",
    "    return V_new"
   ]
  },
  {
   "cell_type": "markdown",
   "id": "ed4206bc",
   "metadata": {},
   "source": [
    "## Policy Improvement Function"
   ]
  },
  {
   "cell_type": "code",
   "execution_count": 5,
   "id": "0f860f1e",
   "metadata": {},
   "outputs": [],
   "source": [
    "def policy_improvement(V,Pi,env):\n",
    "    \"\"\"\n",
    "    Update the policy given a state-value functions\n",
    "    when multiple actions result in the same action_value, the p will be divided equally\n",
    "    \"\"\"\n",
    "    \n",
    "    policy_stable = True\n",
    "    Pi_new = {}\n",
    "    \n",
    "    #for all non-terminal states\n",
    "    for state in env.states:\n",
    "        if state in env.end_state:\n",
    "            continue\n",
    "        #old action\n",
    "        action = Pi[tuple(state)]\n",
    "        \n",
    "        #find new optimal action under current state-value function\n",
    "        action_values = []\n",
    "        \n",
    "        #take all actions and find the largest value\n",
    "        for a in range(env.action_space.n):\n",
    "            env.reset(state.copy())\n",
    "            next_state, reward, done, info = env.step(a)\n",
    "            next_state_value = V[tuple(next_state)]\n",
    "            action_values.append(reward+next_state_value)\n",
    "        best_actions = np.argwhere(action_values == np.amax(action_values)).flatten()\n",
    "\n",
    "        \n",
    "        #update policy\n",
    "        prob = 1/len(best_actions)\n",
    "        Pi_new[tuple(state)] = [prob if i in best_actions else 0 for i in range(env.action_space.n)]\n",
    "        \n",
    "        if not np.array_equal(action,Pi_new[tuple(state)]):\n",
    "            policy_stable = False\n",
    "\n",
    "    return policy_stable, Pi_new"
   ]
  },
  {
   "cell_type": "markdown",
   "id": "52abecc0",
   "metadata": {},
   "source": [
    "## Initalize a 4\\*4 gridworld"
   ]
  },
  {
   "cell_type": "code",
   "execution_count": 7,
   "id": "77a5ab27",
   "metadata": {},
   "outputs": [
    {
     "name": "stdout",
     "output_type": "stream",
     "text": [
      "0\t|0\t|0\t|0\t|\n",
      "0\t|0\t|0\t|0\t|\n",
      "0\t|0\t|0\t|0\t|\n",
      "0\t|0\t|0\t|0\t|\n",
      "------------------------------\n",
      "X\t|↑←↓→\t|↑←↓→\t|↑←↓→\t|\n",
      "↑←↓→\t|↑←↓→\t|↑←↓→\t|↑←↓→\t|\n",
      "↑←↓→\t|↑←↓→\t|↑←↓→\t|↑←↓→\t|\n",
      "↑←↓→\t|↑←↓→\t|↑←↓→\t|X\t|\n",
      " \n"
     ]
    }
   ],
   "source": [
    "size = 4\n",
    "V = dict.fromkeys([(i,j) for i in range(size) for j in range(size)], 0) # values as 0\n",
    "Pi = dict.fromkeys([(i,j) for i in range(size) for j in range(size) if i+j != 0 and i+j != 6], [0.25]*4)# inital actions as UP\n",
    "env = GridWorld(size)\n",
    "plot_value(V,size)\n",
    "print('------------------------------')\n",
    "plot_policy(Pi,size)"
   ]
  },
  {
   "cell_type": "code",
   "execution_count": 8,
   "id": "081e229f",
   "metadata": {},
   "outputs": [
    {
     "name": "stdout",
     "output_type": "stream",
     "text": [
      "Round#:  1\n",
      "0\t|-0.8\t|-1.0\t|-1.0\t|\n",
      "-0.8\t|-1.0\t|-1.0\t|-1.0\t|\n",
      "-1.0\t|-1.0\t|-1.0\t|-0.8\t|\n",
      "-1.0\t|-1.0\t|-0.8\t|0\t|\n",
      "------------------------------\n",
      "X\t|←\t|←\t|↑←↓→\t|\n",
      "↑\t|↑←\t|↑←↓→\t|↓\t|\n",
      "↑\t|↑←↓→\t|↓→\t|↓\t|\n",
      "↑←↓→\t|→\t|→\t|X\t|\n",
      " \n",
      "Policy is stable:  False\n",
      "=====================================\n",
      "Round#:  2\n",
      "0\t|0.0\t|-1.8\t|-2.0\t|\n",
      "0.0\t|-1.8\t|-2.0\t|-1.8\t|\n",
      "-1.8\t|-2.0\t|-1.8\t|0.0\t|\n",
      "-2.0\t|-1.8\t|0.0\t|0\t|\n",
      "------------------------------\n",
      "X\t|←\t|←\t|←↓\t|\n",
      "↑\t|↑←\t|↑←↓→\t|↓\t|\n",
      "↑\t|↑←↓→\t|↓→\t|↓\t|\n",
      "↑→\t|→\t|→\t|X\t|\n",
      " \n",
      "Policy is stable:  False\n",
      "=====================================\n",
      "Round#:  3\n",
      "0\t|0.0\t|-1.0\t|-2.8\t|\n",
      "0.0\t|-1.0\t|-2.8\t|-1.0\t|\n",
      "-1.0\t|-2.8\t|-1.0\t|0.0\t|\n",
      "-2.8\t|-1.0\t|0.0\t|0\t|\n",
      "------------------------------\n",
      "X\t|←\t|←\t|←↓\t|\n",
      "↑\t|↑←\t|↑←↓→\t|↓\t|\n",
      "↑\t|↑←↓→\t|↓→\t|↓\t|\n",
      "↑→\t|→\t|→\t|X\t|\n",
      " \n",
      "Policy is stable:  True\n",
      "=====================================\n",
      "Round#:  4\n",
      "0\t|0.0\t|-1.0\t|-2.0\t|\n",
      "0.0\t|-1.0\t|-2.0\t|-1.0\t|\n",
      "-1.0\t|-2.0\t|-1.0\t|0.0\t|\n",
      "-2.0\t|-1.0\t|0.0\t|0\t|\n",
      "------------------------------\n",
      "X\t|←\t|←\t|←↓\t|\n",
      "↑\t|↑←\t|↑←↓→\t|↓\t|\n",
      "↑\t|↑←↓→\t|↓→\t|↓\t|\n",
      "↑→\t|→\t|→\t|X\t|\n",
      " \n",
      "Policy is stable:  True\n",
      "=====================================\n",
      "Round#:  5\n",
      "0\t|0.0\t|-1.0\t|-2.0\t|\n",
      "0.0\t|-1.0\t|-2.0\t|-1.0\t|\n",
      "-1.0\t|-2.0\t|-1.0\t|0.0\t|\n",
      "-2.0\t|-1.0\t|0.0\t|0\t|\n",
      "------------------------------\n",
      "X\t|←\t|←\t|←↓\t|\n",
      "↑\t|↑←\t|↑←↓→\t|↓\t|\n",
      "↑\t|↑←↓→\t|↓→\t|↓\t|\n",
      "↑→\t|→\t|→\t|X\t|\n",
      " \n",
      "Policy is stable:  True\n",
      "=====================================\n"
     ]
    }
   ],
   "source": [
    "for i in range(5):\n",
    "    \n",
    "    print('Round#: ',i+1)\n",
    "    #policy evaluation\n",
    "    V = policy_evaluation_single_round(V,Pi,env)\n",
    "    \n",
    "    #policy improvement\n",
    "    policy_stable,Pi = policy_improvement(V,Pi,env)\n",
    "    \n",
    "    #plot\n",
    "    \n",
    "    \n",
    "    plot_value(V,size)\n",
    "    print('------------------------------')\n",
    "    plot_policy(Pi,size)\n",
    "    print(\"Policy is stable: \", policy_stable)\n",
    "    print('=====================================')\n",
    "    "
   ]
  },
  {
   "cell_type": "code",
   "execution_count": null,
   "id": "42912a56",
   "metadata": {},
   "outputs": [],
   "source": []
  },
  {
   "cell_type": "code",
   "execution_count": null,
   "id": "6d8fe5b9",
   "metadata": {},
   "outputs": [],
   "source": []
  }
 ],
 "metadata": {
  "kernelspec": {
   "display_name": "Python 3 (ipykernel)",
   "language": "python",
   "name": "python3"
  },
  "language_info": {
   "codemirror_mode": {
    "name": "ipython",
    "version": 3
   },
   "file_extension": ".py",
   "mimetype": "text/x-python",
   "name": "python",
   "nbconvert_exporter": "python",
   "pygments_lexer": "ipython3",
   "version": "3.9.13"
  }
 },
 "nbformat": 4,
 "nbformat_minor": 5
}
