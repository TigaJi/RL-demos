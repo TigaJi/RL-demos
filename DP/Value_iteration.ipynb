{
 "cells": [
  {
   "cell_type": "markdown",
   "id": "21464c04",
   "metadata": {},
   "source": [
    "# Value Iteration on Grid World"
   ]
  },
  {
   "cell_type": "code",
   "execution_count": 1,
   "id": "612c5cb7",
   "metadata": {},
   "outputs": [],
   "source": [
    "import sys\n",
    "import os\n",
    "sys.path.append(os.path.dirname(os.getcwd()))\n",
    "import numpy as np\n",
    "from gridworld import GridWorld,plot"
   ]
  },
  {
   "cell_type": "code",
   "execution_count": 2,
   "id": "3a67c3d9",
   "metadata": {},
   "outputs": [],
   "source": [
    "def policy_improvement(V,Pi,env):\n",
    "    \"\"\"\n",
    "    Update the policy given a state-value functions\n",
    "    when multiple actions result in the same action_value, the p will be divided equally\n",
    "    \"\"\"\n",
    "    \n",
    "    policy_stable = True\n",
    "    Pi_new = {}\n",
    "    \n",
    "    #for all non-terminal states\n",
    "    for state in env.states:\n",
    "        if state in env.end_state:\n",
    "            continue\n",
    "        #old action\n",
    "        action = Pi[tuple(state)]\n",
    "        \n",
    "        #find new optimal action under current state-value function\n",
    "        action_values = []\n",
    "        \n",
    "        #take all actions and find the largest value\n",
    "        for a in range(env.action_space.n):\n",
    "            env.reset(state.copy())\n",
    "            next_state, reward, done, info = env.step(a)\n",
    "            next_state_value = V[tuple(next_state)]\n",
    "            action_values.append(reward+next_state_value)\n",
    "        best_actions = np.argwhere(action_values == np.amax(action_values)).flatten()\n",
    "\n",
    "        \n",
    "        #update policy\n",
    "        prob = 1/len(best_actions)\n",
    "        Pi_new[tuple(state)] = [prob if i in best_actions else 0 for i in range(env.action_space.n)]\n",
    "        \n",
    "        if not np.array_equal(action,Pi_new[tuple(state)]):\n",
    "            policy_stable = False\n",
    "\n",
    "    return policy_stable, Pi_new\n",
    "\n",
    "def get_max_expected_value(state,Pi,V):\n",
    "    '''\n",
    "    determine which action yields the highest expected value and return the value\n",
    "    '''\n",
    "    #pi(s)\n",
    "    action_prob = Pi[tuple(state)]\n",
    "    \n",
    "    \n",
    "    \n",
    "    max_value = float('-inf')\n",
    "    for action in range(len(action_prob)):\n",
    "        \n",
    "        env.reset(state.copy())\n",
    "        next_state, reward, done, info = env.step(action)\n",
    "        max_value = max(max_value,reward + V[tuple(next_state)])\n",
    "\n",
    "    return round(max_value,1)\n",
    "\n",
    "def value_iteration(V,Pi,env,theta = 0.1):\n",
    "\n",
    "    while True:\n",
    "        delta = 0\n",
    "        for state in env.states:\n",
    "            if state in env.end_state:\n",
    "                continue\n",
    "            old_value = V[tuple(state)]\n",
    "            V[tuple(state)] = get_max_expected_value(state,Pi,V)\n",
    "            delta = max(delta,abs(old_value-V[tuple(state)]))\n",
    "        \n",
    "        if delta < theta:\n",
    "            break\n",
    "    \n",
    "    return V"
   ]
  },
  {
   "cell_type": "code",
   "execution_count": 3,
   "id": "053cdf16",
   "metadata": {},
   "outputs": [],
   "source": [
    "size = 4\n",
    "V = dict.fromkeys([(i,j) for i in range(size) for j in range(size)], 0) # values as 0\n",
    "Pi = dict.fromkeys([(i,j) for i in range(size) for j in range(size) if i+j != 0 and i+j != (size-1)*2], [0.25]*size)# inital actions as UP\n",
    "env = GridWorld(4)\n",
    "\n",
    "V_final = value_iteration(V,Pi,env)\n",
    "Pi_final = policy_improvement(V_final,Pi,env)"
   ]
  },
  {
   "cell_type": "code",
   "execution_count": 4,
   "id": "bb026dda",
   "metadata": {},
   "outputs": [],
   "source": [
    "V_final = value_iteration(V,Pi,env)\n",
    "policy_stable,Pi_final = policy_improvement(V_final,Pi,env)"
   ]
  },
  {
   "cell_type": "code",
   "execution_count": 5,
   "id": "e506e8c5",
   "metadata": {},
   "outputs": [
    {
     "name": "stdout",
     "output_type": "stream",
     "text": [
      "0\t|0\t|-1\t|-2\t|\n",
      "0\t|-1\t|-2\t|-1\t|\n",
      "-1\t|-2\t|-1\t|0\t|\n",
      "-2\t|-1\t|0\t|0\t|\n",
      "-------------------------------\n",
      "X\t|←\t|←\t|←↓\t|\n",
      "↑\t|↑←\t|↑←↓→\t|↓\t|\n",
      "↑\t|↑←↓→\t|↓→\t|↓\t|\n",
      "↑→\t|→\t|→\t|X\t|\n",
      " \n"
     ]
    }
   ],
   "source": [
    "plot(V_final,Pi_final,size)"
   ]
  },
  {
   "cell_type": "code",
   "execution_count": null,
   "id": "a66dda15",
   "metadata": {},
   "outputs": [],
   "source": []
  }
 ],
 "metadata": {
  "kernelspec": {
   "display_name": "Python 3 (ipykernel)",
   "language": "python",
   "name": "python3"
  },
  "language_info": {
   "codemirror_mode": {
    "name": "ipython",
    "version": 3
   },
   "file_extension": ".py",
   "mimetype": "text/x-python",
   "name": "python",
   "nbconvert_exporter": "python",
   "pygments_lexer": "ipython3",
   "version": "3.9.13"
  }
 },
 "nbformat": 4,
 "nbformat_minor": 5
}
