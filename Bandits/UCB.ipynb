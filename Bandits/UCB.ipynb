{
 "cells": [
  {
   "cell_type": "markdown",
   "id": "a1a6004e",
   "metadata": {},
   "source": [
    "# Upper Confidence Bound\n",
    "\n",
    "## Rules: Specify $n$ arms with one is potentially the best arm, which has 90% chance yielding a reward of 1, where the chance is 10% for rest of the arms."
   ]
  },
  {
   "cell_type": "code",
   "execution_count": 3,
   "id": "dc4045b9",
   "metadata": {},
   "outputs": [],
   "source": [
    "import numpy as np\n",
    "import matplotlib.pyplot as plt"
   ]
  },
  {
   "cell_type": "code",
   "execution_count": 51,
   "id": "e3c00519",
   "metadata": {},
   "outputs": [],
   "source": [
    "class UCB:\n",
    "    def __init__(self,c,n_arms,best_arm = 0):\n",
    "        self.c = c\n",
    "        self.n_arms = n_arms\n",
    "        self.Q = np.array([1.0/n_arms] * n_arms) #action value\n",
    "        self.R = np.array([0.0] * n_arms) #reward\n",
    "        self.N = np.array([0] * n_arms) #selected occurence\n",
    "        self.best_arm = best_arm # a default best arm\n",
    "    \n",
    "    def get_reward(self,action):\n",
    "        \n",
    "        # when the best arm is pulled, there are 90% of chance having a positive reward\n",
    "        # otherwise only 10% of chance\n",
    "        if action == self.best_arm:\n",
    "            return np.random.choice([0.1,1],1,p = [0.1,0.9])[0]\n",
    "        else:\n",
    "            return np.random.choice([0.1,1],1,p = [0.9,0.1])[0]\n",
    "        \n",
    "    def get_action(self,t):\n",
    "        \n",
    "        ## argmax(a): Q(a) + c*ln(t)/Na(t)\n",
    "        \n",
    "        confidence_bound = self.c*np.sqrt(np.log(t)/self.N)\n",
    "        return np.argmax(self.Q+confidence_bound)\n",
    "\n",
    "        \n",
    "    def step(self,t):\n",
    "        action = self.get_action(t)\n",
    "        reward = self.get_reward(action)\n",
    "        #update reward\n",
    "        self.R[action]+=reward\n",
    "        \n",
    "        #update N\n",
    "        self.N[action]+=1\n",
    "\n",
    "        #update Q\n",
    "        self.Q[action] = self.R[action]/self.N[action]\n",
    "        \n",
    "        return reward\n",
    "        \n",
    "    def simulation(self,num_steps):\n",
    "        total_reward = 0\n",
    "        avg_reward = []\n",
    "        for i in range(1,num_steps+1):\n",
    "            reward = self.step(i)\n",
    "            total_reward += reward\n",
    "            avg_reward.append(total_reward/i)\n",
    "            \n",
    "        return avg_reward"
   ]
  },
  {
   "cell_type": "code",
   "execution_count": 66,
   "id": "bd394466",
   "metadata": {},
   "outputs": [
    {
     "name": "stderr",
     "output_type": "stream",
     "text": [
      "/var/folders/th/flmj2p9x5s12x8nk19d3zbwr0000gn/T/ipykernel_99693/3533867949.py:24: RuntimeWarning: invalid value encountered in true_divide\n",
      "  confidence_bound = self.c*np.sqrt(np.log(t)/self.N)\n",
      "/var/folders/th/flmj2p9x5s12x8nk19d3zbwr0000gn/T/ipykernel_99693/3533867949.py:24: RuntimeWarning: divide by zero encountered in true_divide\n",
      "  confidence_bound = self.c*np.sqrt(np.log(t)/self.N)\n"
     ]
    }
   ],
   "source": [
    "test = UCB(2,10,best_arm = 5)\n",
    "avg_reward = test.simulation(10000)"
   ]
  },
  {
   "cell_type": "code",
   "execution_count": 67,
   "id": "208d3d91",
   "metadata": {},
   "outputs": [
    {
     "data": {
      "text/plain": [
       "[<matplotlib.lines.Line2D at 0x7ff729853250>]"
      ]
     },
     "execution_count": 67,
     "metadata": {},
     "output_type": "execute_result"
    },
    {
     "data": {
      "image/png": "[encoded data removed]",
      "text/plain": [
       "<Figure size 640x480 with 1 Axes>"
      ]
     },
     "metadata": {},
     "output_type": "display_data"
    }
   ],
   "source": [
    "plt.plot(avg_reward)"
   ]
  },
  {
   "cell_type": "code",
   "execution_count": 68,
   "id": "9cd7f700",
   "metadata": {},
   "outputs": [
    {
     "data": {
      "text/plain": [
       "array([  57,   60,   59,   55,   62, 9478,   53,   59,   60,   57])"
      ]
     },
     "execution_count": 68,
     "metadata": {},
     "output_type": "execute_result"
    }
   ],
   "source": [
    "test.N"
   ]
  },
  {
   "cell_type": "code",
   "execution_count": null,
   "id": "3bb88b76",
   "metadata": {},
   "outputs": [],
   "source": []
  }
 ],
 "metadata": {
  "kernelspec": {
   "display_name": "Python 3 (ipykernel)",
   "language": "python",
   "name": "python3"
  },
  "language_info": {
   "codemirror_mode": {
    "name": "ipython",
    "version": 3
   },
   "file_extension": ".py",
   "mimetype": "text/x-python",
   "name": "python",
   "nbconvert_exporter": "python",
   "pygments_lexer": "ipython3",
   "version": "3.9.13"
  }
 },
 "nbformat": 4,
 "nbformat_minor": 5
}
