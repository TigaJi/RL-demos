{
 "cells": [
  {
   "cell_type": "markdown",
   "id": "7d5f9e17",
   "metadata": {},
   "source": [
    "## First Visit Monte Carlo Prediction Estimating State-Value Function"
   ]
  },
  {
   "cell_type": "code",
   "execution_count": 1,
   "id": "abd62997",
   "metadata": {},
   "outputs": [],
   "source": [
    "import sys\n",
    "import os\n",
    "\n",
    "sys.path.append(os.path.dirname(os.getcwd()))\n",
    "\n",
    "from gridworld import GridWorld,plot\n",
    "import numpy as np"
   ]
  },
  {
   "cell_type": "code",
   "execution_count": 13,
   "id": "9f4c2411",
   "metadata": {},
   "outputs": [
    {
     "data": {
      "text/plain": [
       "{(1, 3): -31,\n",
       " (0, 3): -29,\n",
       " (0, 2): -28,\n",
       " (0, 1): -26,\n",
       " (1, 1): -24,\n",
       " (1, 2): -18,\n",
       " (2, 2): -11,\n",
       " (2, 1): -10,\n",
       " (3, 1): -9,\n",
       " (3, 2): -7,\n",
       " (3, 0): -4,\n",
       " (2, 0): -3,\n",
       " (1, 0): -2}"
      ]
     },
     "execution_count": 13,
     "metadata": {},
     "output_type": "execute_result"
    }
   ],
   "source": [
    "generate_episode(Pi,4)"
   ]
  },
  {
   "cell_type": "code",
   "execution_count": 19,
   "id": "531332b3",
   "metadata": {},
   "outputs": [],
   "source": [
    "\n",
    "def generate_episode(Pi,size):\n",
    "    '''\n",
    "    play an episode on given policy and return G\n",
    "    '''\n",
    "    \n",
    "    env = GridWorld(size)\n",
    "    done = False\n",
    "    G = {} #episode reward\n",
    "    \n",
    "    while not done:\n",
    "\n",
    "        #current_state\n",
    "        current_state = env.agent_position.copy()\n",
    "        \n",
    "        #get action and step\n",
    "        action_prob = Pi[tuple(current_state)] #\n",
    "        action = np.random.choice(range(len(action_prob)),p = action_prob)\n",
    "        next_state, reward, done, info = env.step(action)\n",
    "        \n",
    "        #append reward to all visited state\n",
    "        if tuple(current_state) in G:\n",
    "            G = {k:v+reward for k,v in G.items()}\n",
    "        else:\n",
    "            G[tuple(current_state)] = 0\n",
    "            G = {k:v+reward for k,v in G.items()}\n",
    "\n",
    "    return G\n",
    "\n",
    "def MC_prediction(Pi,size,iter_num):\n",
    "    '''\n",
    "    perfrom first-visit MC prediction\n",
    "    '''\n",
    "    \n",
    "    V = dict.fromkeys([(i,j) for i in range(size) for j in range(size)], 0) # values as 0\n",
    "    Returns = {k: [] for k in [(i,j) for i in range(size) for j in range(size)]} # returns as 0\n",
    "    \n",
    "    \n",
    "    for i in range(iter_num):\n",
    "        #generate an episode\n",
    "        G = generate_episode(Pi,size)\n",
    "        \n",
    "        for seen_state in G:\n",
    "            #append G to Returns\n",
    "            Returns[seen_state]+=[G[seen_state]]\n",
    "            #average returns and update V\n",
    "            V[seen_state] = round(sum(Returns[seen_state])/len(Returns[seen_state]),1)\n",
    "    return V,Returns"
   ]
  },
  {
   "cell_type": "code",
   "execution_count": 22,
   "id": "54c97b44",
   "metadata": {},
   "outputs": [],
   "source": [
    "size = 5\n",
    "V = dict.fromkeys([(i,j) for i in range(size) for j in range(size)], 0) # values as 0\n",
    "Pi = dict.fromkeys([(i,j) for i in range(size) for j in range(size) if i+j != 0 and i+j != (size-1)*2], [0.25]*4)# inital actions as UP\n",
    "V_final,Returns = MC_prediction(Pi,size,1000)"
   ]
  },
  {
   "cell_type": "code",
   "execution_count": 23,
   "id": "c792bc86",
   "metadata": {},
   "outputs": [
    {
     "name": "stdout",
     "output_type": "stream",
     "text": [
      "0\t|-21.8\t|-33.8\t|-38.5\t|-39.6\t|\n",
      "-23.1\t|-30.3\t|-36.2\t|-38.5\t|-36.8\t|\n",
      "-33.9\t|-35.8\t|-37.0\t|-34.0\t|-31.7\t|\n",
      "-38.0\t|-37.6\t|-35.7\t|-29.9\t|-20.2\t|\n",
      "-39.4\t|-38.3\t|-33.0\t|-20.7\t|0\t|\n",
      "-------------------------------\n",
      "X\t|↑←↓→\t|↑←↓→\t|↑←↓→\t|↑←↓→\t|\n",
      "↑←↓→\t|↑←↓→\t|↑←↓→\t|↑←↓→\t|↑←↓→\t|\n",
      "↑←↓→\t|↑←↓→\t|↑←↓→\t|↑←↓→\t|↑←↓→\t|\n",
      "↑←↓→\t|↑←↓→\t|↑←↓→\t|↑←↓→\t|↑←↓→\t|\n",
      "↑←↓→\t|↑←↓→\t|↑←↓→\t|↑←↓→\t|X\t|\n",
      " \n"
     ]
    }
   ],
   "source": [
    "plot(V_final,Pi,size)"
   ]
  },
  {
   "cell_type": "code",
   "execution_count": null,
   "id": "1a26bd22",
   "metadata": {},
   "outputs": [],
   "source": []
  }
 ],
 "metadata": {
  "kernelspec": {
   "display_name": "Python 3 (ipykernel)",
   "language": "python",
   "name": "python3"
  },
  "language_info": {
   "codemirror_mode": {
    "name": "ipython",
    "version": 3
   },
   "file_extension": ".py",
   "mimetype": "text/x-python",
   "name": "python",
   "nbconvert_exporter": "python",
   "pygments_lexer": "ipython3",
   "version": "3.9.13"
  }
 },
 "nbformat": 4,
 "nbformat_minor": 5
}
