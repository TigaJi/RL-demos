{
 "cells": [
  {
   "cell_type": "markdown",
   "id": "7d5f9e17",
   "metadata": {},
   "source": [
    "## First Visit Monte Carlo Prediction Estimating State-Value Function"
   ]
  },
  {
   "cell_type": "code",
   "execution_count": 1,
   "id": "abd62997",
   "metadata": {},
   "outputs": [],
   "source": [
    "import sys\n",
    "import os\n",
    "\n",
    "sys.path.append(os.path.dirname(os.getcwd()))\n",
    "\n",
    "from gridworld import GridWorld,plot\n",
    "import numpy as np"
   ]
  },
  {
   "cell_type": "code",
   "execution_count": 6,
   "id": "531332b3",
   "metadata": {},
   "outputs": [],
   "source": [
    "def generate_episode(Pi,size):\n",
    "    '''\n",
    "    play an episode on given policy and return G\n",
    "    '''\n",
    "    \n",
    "    env = GridWorld(size)\n",
    "    done = False\n",
    "    G = {} #episode reward\n",
    "    \n",
    "    while not done:\n",
    "        #current_state\n",
    "        current_state = env.agent_position.copy()\n",
    "        \n",
    "        #get action and step\n",
    "        action_prob = Pi[tuple(current_state)] #\n",
    "        action = np.random.choice(range(len(action_prob)),p = action_prob)\n",
    "        next_state, reward, done, info = env.step(action)\n",
    "        \n",
    "        #append reward to all visited state\n",
    "        if tuple(current_state) in G:\n",
    "            G[tuple(current_state)] += reward\n",
    "        else:\n",
    "            G[tuple(current_state)] = reward\n",
    "\n",
    "    return G\n",
    "\n",
    "def MC_prediction(Pi,size,iter_num):\n",
    "    '''\n",
    "    perfrom first-visit MC prediction\n",
    "    '''\n",
    "    \n",
    "    V = dict.fromkeys([(i,j) for i in range(size) for j in range(size)], 0) # values as 0\n",
    "    Returns = {k: [] for k in [(i,j) for i in range(size) for j in range(size)]} # returns as 0\n",
    "    \n",
    "    \n",
    "    for i in range(iter_num):\n",
    "        #generate an episode\n",
    "        G = generate_episode(Pi,size)\n",
    "        \n",
    "        for seen_state in G:\n",
    "            #append G to Returns\n",
    "            Returns[seen_state]+=[G[seen_state]]\n",
    "            #average returns and update V\n",
    "            V[seen_state] = round(sum(Returns[seen_state])/len(Returns[seen_state]),3)\n",
    "    return V,Returns"
   ]
  },
  {
   "cell_type": "code",
   "execution_count": 13,
   "id": "54c97b44",
   "metadata": {},
   "outputs": [],
   "source": [
    "size = 5\n",
    "V = dict.fromkeys([(i,j) for i in range(size) for j in range(size)], 0) # values as 0\n",
    "Pi = dict.fromkeys([(i,j) for i in range(size) for j in range(size) if i+j != 0 and i+j != (size-1)*2], [0.25]*4)# inital actions as UP\n",
    "V_final,Returns = MC_prediction(Pi,size,5000)"
   ]
  },
  {
   "cell_type": "code",
   "execution_count": 14,
   "id": "c792bc86",
   "metadata": {},
   "outputs": [
    {
     "name": "stdout",
     "output_type": "stream",
     "text": [
      "0\t|-1.71\t|-3.34\t|-4.307\t|-5.598\t|\n",
      "-1.745\t|-2.56\t|-3.047\t|-3.5\t|-4.235\t|\n",
      "-3.464\t|-3.006\t|-2.913\t|-3.006\t|-3.473\t|\n",
      "-4.352\t|-3.494\t|-2.927\t|-2.491\t|-1.76\t|\n",
      "-5.43\t|-4.344\t|-3.438\t|-1.731\t|0\t|\n",
      "-------------------------------\n",
      "X\t|↑←↓→\t|↑←↓→\t|↑←↓→\t|↑←↓→\t|\n",
      "↑←↓→\t|↑←↓→\t|↑←↓→\t|↑←↓→\t|↑←↓→\t|\n",
      "↑←↓→\t|↑←↓→\t|↑←↓→\t|↑←↓→\t|↑←↓→\t|\n",
      "↑←↓→\t|↑←↓→\t|↑←↓→\t|↑←↓→\t|↑←↓→\t|\n",
      "↑←↓→\t|↑←↓→\t|↑←↓→\t|↑←↓→\t|X\t|\n",
      " \n"
     ]
    }
   ],
   "source": [
    "plot(V_final,Pi,size)"
   ]
  },
  {
   "cell_type": "code",
   "execution_count": null,
   "id": "1a26bd22",
   "metadata": {},
   "outputs": [],
   "source": []
  }
 ],
 "metadata": {
  "kernelspec": {
   "display_name": "Python 3 (ipykernel)",
   "language": "python",
   "name": "python3"
  },
  "language_info": {
   "codemirror_mode": {
    "name": "ipython",
    "version": 3
   },
   "file_extension": ".py",
   "mimetype": "text/x-python",
   "name": "python",
   "nbconvert_exporter": "python",
   "pygments_lexer": "ipython3",
   "version": "3.9.13"
  }
 },
 "nbformat": 4,
 "nbformat_minor": 5
}
