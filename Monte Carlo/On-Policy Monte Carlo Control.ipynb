{
 "cells": [
  {
   "cell_type": "code",
   "execution_count": 89,
   "id": "47695835",
   "metadata": {},
   "outputs": [],
   "source": [
    "import sys\n",
    "import os\n",
    "\n",
    "sys.path.append(os.path.dirname(os.getcwd()))\n",
    "\n",
    "from gridworld import GridWorld,plot\n",
    "import numpy as np"
   ]
  },
  {
   "cell_type": "code",
   "execution_count": 113,
   "id": "48422408",
   "metadata": {},
   "outputs": [],
   "source": [
    "def generate_episode(Pi,size):\n",
    "    '''\n",
    "    play an episode on given policy and return G on state-action pairs\n",
    "    '''\n",
    "    \n",
    "    env = GridWorld(size)\n",
    "    done = False\n",
    "    G = {} #episode reward\n",
    "    while not done:\n",
    "        #current_state\n",
    "        current_state = env.agent_position.copy()\n",
    "        \n",
    "        #get action and step\n",
    "        action_prob = Pi[tuple(current_state)] #\n",
    "        action = np.random.choice(range(len(action_prob)),p = action_prob)\n",
    "        next_state, reward, done, info = env.step(action)\n",
    "        \n",
    "        #append reward to all visited state-action pairs\n",
    "        if (tuple(current_state),action) in G:\n",
    "            G = {k:v+reward for k,v in G.items()}\n",
    "        else:\n",
    "            G[(tuple(current_state),action)] = 0\n",
    "            G = {k:v+reward for k,v in G.items()}\n",
    "            \n",
    "    return G"
   ]
  },
  {
   "cell_type": "code",
   "execution_count": 123,
   "id": "6a3cff24",
   "metadata": {},
   "outputs": [],
   "source": [
    "def MC_control_on_policy(Pi,size,iter_num, epsilon = 0.4):\n",
    "\n",
    "    '''\n",
    "    on-policy ﬁrst-visit MC control algorithm for ε-soft policies\n",
    "    '''\n",
    "    Q = {k:0 for k in [((i,j),a) for i in range(size) for j in range(size) for a in range(4)]}\n",
    "    Returns = {k:[] for k in [((i,j),a) for i in range(size) for j in range(size) for a in range(4)]}\n",
    "    \n",
    "    \n",
    "    for _ in range(iter_num):\n",
    "\n",
    "        G = generate_episode(Pi,size)\n",
    "        \n",
    "        seen_states = set()\n",
    "        \n",
    "        #update Q\n",
    "        for seen_pair in G:\n",
    "            seen_states.add(seen_pair[0])\n",
    "            \n",
    "            Returns[seen_pair].append(G[seen_pair])\n",
    "            \n",
    "            #average returns and update V\n",
    "            Q[seen_pair] = round(sum(Returns[seen_pair])/len(Returns[seen_pair]),3)\n",
    "        \n",
    "        #policy improvement\n",
    "        for state in seen_states:\n",
    "            action_values = [v for k,v in Q.items() if k[0] == state]\n",
    "            best_action = np.argmax(action_values)\n",
    "            Pi[state] = [1-epsilon+epsilon/4 if i == best_action else epsilon/4 for i in range(4)]  \n",
    "    \n",
    "    return Pi,Q"
   ]
  },
  {
   "cell_type": "code",
   "execution_count": 127,
   "id": "39741425",
   "metadata": {},
   "outputs": [],
   "source": [
    "size = 4\n",
    "V = dict.fromkeys([(i,j) for i in range(size) for j in range(size)], 0) # values as 0\n",
    "Pi = dict.fromkeys([(i,j) for i in range(size) for j in range(size) if i+j != 0 and i+j != (size-1)*2], [0.25]*4)# inital actions as UP"
   ]
  },
  {
   "cell_type": "code",
   "execution_count": 131,
   "id": "7be8b718",
   "metadata": {},
   "outputs": [
    {
     "name": "stdout",
     "output_type": "stream",
     "text": [
      "0\t|0\t|0\t|0\t|\n",
      "0\t|0\t|0\t|0\t|\n",
      "0\t|0\t|0\t|0\t|\n",
      "0\t|0\t|0\t|0\t|\n",
      "-------------------------------\n",
      "X\t|←\t|↓\t|←\t|\n",
      "↑\t|←\t|←\t|↓\t|\n",
      "↑\t|→\t|→\t|↓\t|\n",
      "↑\t|→\t|→\t|X\t|\n",
      " \n"
     ]
    }
   ],
   "source": [
    "Pi,Q = MC_control_on_policy(Pi,size,100)\n",
    "plot(V,Pi,size)"
   ]
  },
  {
   "cell_type": "code",
   "execution_count": 132,
   "id": "5dc3cc89",
   "metadata": {},
   "outputs": [
    {
     "data": {
      "text/plain": [
       "{(0, 1): [0.1, 0.7, 0.1, 0.1],\n",
       " (0, 2): [0.1, 0.1, 0.7, 0.1],\n",
       " (0, 3): [0.1, 0.7, 0.1, 0.1],\n",
       " (1, 0): [0.7, 0.1, 0.1, 0.1],\n",
       " (1, 1): [0.1, 0.7, 0.1, 0.1],\n",
       " (1, 2): [0.1, 0.7, 0.1, 0.1],\n",
       " (1, 3): [0.1, 0.1, 0.7, 0.1],\n",
       " (2, 0): [0.7, 0.1, 0.1, 0.1],\n",
       " (2, 1): [0.1, 0.1, 0.1, 0.7],\n",
       " (2, 2): [0.1, 0.1, 0.1, 0.7],\n",
       " (2, 3): [0.1, 0.1, 0.7, 0.1],\n",
       " (3, 0): [0.7, 0.1, 0.1, 0.1],\n",
       " (3, 1): [0.1, 0.1, 0.1, 0.7],\n",
       " (3, 2): [0.1, 0.1, 0.1, 0.7]}"
      ]
     },
     "execution_count": 132,
     "metadata": {},
     "output_type": "execute_result"
    }
   ],
   "source": [
    "Pi"
   ]
  },
  {
   "cell_type": "code",
   "execution_count": null,
   "id": "0315ca2c",
   "metadata": {},
   "outputs": [],
   "source": []
  }
 ],
 "metadata": {
  "kernelspec": {
   "display_name": "Python 3 (ipykernel)",
   "language": "python",
   "name": "python3"
  },
  "language_info": {
   "codemirror_mode": {
    "name": "ipython",
    "version": 3
   },
   "file_extension": ".py",
   "mimetype": "text/x-python",
   "name": "python",
   "nbconvert_exporter": "python",
   "pygments_lexer": "ipython3",
   "version": "3.9.13"
  }
 },
 "nbformat": 4,
 "nbformat_minor": 5
}
